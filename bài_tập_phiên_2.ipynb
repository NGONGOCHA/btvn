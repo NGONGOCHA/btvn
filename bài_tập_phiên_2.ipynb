{
  "nbformat": 4,
  "nbformat_minor": 0,
  "metadata": {
    "colab": {
      "name": "bài tập phiên 2.ipynb",
      "provenance": [],
      "authorship_tag": "ABX9TyMmOIiI6wRYgrCQGxbBpRNl",
      "include_colab_link": true
    },
    "kernelspec": {
      "name": "python3",
      "display_name": "Python 3"
    },
    "language_info": {
      "name": "python"
    }
  },
  "cells": [
    {
      "cell_type": "markdown",
      "metadata": {
        "id": "view-in-github",
        "colab_type": "text"
      },
      "source": [
        "<a href=\"https://colab.research.google.com/github/NGONGOCHA/btvn/blob/main/b%C3%A0i_t%E1%BA%ADp_phi%C3%AAn_2.ipynb\" target=\"_parent\"><img src=\"https://colab.research.google.com/assets/colab-badge.svg\" alt=\"Open In Colab\"/></a>"
      ]
    },
    {
      "cell_type": "markdown",
      "metadata": {
        "id": "SlwYphsob_L5"
      },
      "source": [
        "1. Write a Python program to find the number of days in a month."
      ]
    },
    {
      "cell_type": "code",
      "metadata": {
        "colab": {
          "base_uri": "https://localhost:8080/"
        },
        "id": "HjDy37IbcEdP",
        "outputId": "a06ea848-ea7f-4778-a825-39c015734d5d"
      },
      "source": [
        "month = int(input(\"tháng: \"))\n",
        "year = int(input(\"năm: \"))\n",
        "if month == 2:\n",
        "  if year % 4 == 0:\n",
        "    print(\"có 29 ngày\")\n",
        "  else:\n",
        "    print(\"có 28 ngày\")\n",
        "elif month in (4, 6, 9, 11):\n",
        "  print(\"có 30 ngày\")\n",
        "elif month in (1, 3, 5, 7, 8, 10, 12):\n",
        "  print(\"có 31 ngày\")\n",
        "else:\n",
        "  print(\"ko tồn tại\")"
      ],
      "execution_count": null,
      "outputs": [
        {
          "output_type": "stream",
          "name": "stdout",
          "text": [
            "tháng: 2\n",
            "năm: 2016\n",
            "có 29 ngày\n"
          ]
        }
      ]
    },
    {
      "cell_type": "markdown",
      "metadata": {
        "id": "tKZvrmFw8CG9"
      },
      "source": [
        "2. Write a Python program that takes the user to provide a single character from the alphabet. Print Vowel or Consonant, depending on the user input. If the user input is not a letter (between a and z or A and Z), or is a string of length > 1, print an error message.\n"
      ]
    },
    {
      "cell_type": "code",
      "metadata": {
        "colab": {
          "base_uri": "https://localhost:8080/"
        },
        "id": "rqUGn4Zt8AiF",
        "outputId": "d8b77408-d5a5-43ba-982b-47ca6812d990"
      },
      "source": [
        "import string\n",
        "vip = str(input(\"single character: \"))\n",
        "if len(vip) == 1:\n",
        "  if vip.lower() in (\"a\", \"e\", \"i\", \"o\", \"u\"):\n",
        "    print(vip, \"is Vowel\")\n",
        "  elif vip.upper() in (\"A\", \"E\", \"I\", \"O\", \"U\"):\n",
        "    print(vip, \"is Vowel\")\n",
        "  elif vip in (string.digits):\n",
        "    print(\"Error message\")\n",
        "  else:\n",
        "    print(vip, \"is Consonant\")\n",
        "else:\n",
        "  print(\"Error\")"
      ],
      "execution_count": 3,
      "outputs": [
        {
          "output_type": "stream",
          "name": "stdout",
          "text": [
            "single character: su\n",
            "Error\n"
          ]
        }
      ]
    },
    {
      "cell_type": "markdown",
      "metadata": {
        "id": "aFun-XSz9REg"
      },
      "source": [
        "3. Write a Python program that takes a year from user and print whether that year is a leap year or\n",
        "not"
      ]
    },
    {
      "cell_type": "code",
      "metadata": {
        "colab": {
          "base_uri": "https://localhost:8080/"
        },
        "id": "Dpqzguwk9T1S",
        "outputId": "9d1e603c-2fc6-4028-97a0-daa1da6c18eb"
      },
      "source": [
        "năm = int(input(\"nhập năm: \"))\n",
        "if (năm % 4 == 0):\n",
        "  print(năm, \"là năm nhuận\")\n",
        "else:\n",
        "  print(năm, \"không phải là năm nhuận\")"
      ],
      "execution_count": null,
      "outputs": [
        {
          "output_type": "stream",
          "name": "stdout",
          "text": [
            "nhập năm: 2015\n",
            "2015 không phải là năm nhuận\n"
          ]
        }
      ]
    },
    {
      "cell_type": "markdown",
      "metadata": {
        "id": "ggSM6qvC95Te"
      },
      "source": [
        "4. Write a program in Python to input 5 numbers from keyboard and find their sum and average."
      ]
    },
    {
      "cell_type": "code",
      "metadata": {
        "colab": {
          "base_uri": "https://localhost:8080/"
        },
        "id": "0LjQMc3m97bY",
        "outputId": "d27d6678-2ef0-413a-f42b-c009f52bb014"
      },
      "source": [
        "#cách 1\n",
        "a = float(input(\"a = \"))\n",
        "b = float(input(\"b = \"))\n",
        "c = float(input(\"c = \"))\n",
        "d = float(input(\"d = \"))\n",
        "e = float(input(\"e = \"))\n",
        "\n",
        "sum = a+b+c+d+e \n",
        "average = (a+b+c+d+e)/5\n",
        "\n",
        "print(\"tổng là: \", sum)\n",
        "print(\"trung bình cộng là: \", average)"
      ],
      "execution_count": null,
      "outputs": [
        {
          "output_type": "stream",
          "name": "stdout",
          "text": [
            "a = 2\n",
            "b = 5\n",
            "c = 2\n",
            "d = 7\n",
            "e = 9\n",
            "tổng là:  25.0\n",
            "trung bình cộng là:  5.0\n"
          ]
        }
      ]
    },
    {
      "cell_type": "code",
      "metadata": {
        "colab": {
          "base_uri": "https://localhost:8080/"
        },
        "id": "7EzVfNxLWnu0",
        "outputId": "9a7a458d-1652-406c-ca51-1a2c96fcca35"
      },
      "source": [
        "#cách 2\n",
        "import statistics\n",
        "a = float(input(\"a = \"))\n",
        "b = float(input(\"b = \"))\n",
        "c = float(input(\"c = \"))\n",
        "d = float(input(\"d = \"))\n",
        "e = float(input(\"e = \"))\n",
        "\n",
        "tong = a+b+c+d+e\n",
        "average = statistics.mean(z)\n",
        "\n",
        "print(\"tổng là: \", tong)\n",
        "print(\"trung bình cộng là: \", average)"
      ],
      "execution_count": 11,
      "outputs": [
        {
          "output_type": "stream",
          "name": "stdout",
          "text": [
            "a = 4\n",
            "b = 7\n",
            "c = 56\n",
            "d = 8\n",
            "e = 8\n",
            "tổng là:  83.0\n",
            "trung bình cộng là:  2.4\n"
          ]
        }
      ]
    }
  ]
}