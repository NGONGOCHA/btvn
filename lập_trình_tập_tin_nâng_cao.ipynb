{
  "nbformat": 4,
  "nbformat_minor": 0,
  "metadata": {
    "colab": {
      "name": "lập trình tập tin nâng cao.ipynb",
      "provenance": [],
      "collapsed_sections": [],
      "authorship_tag": "ABX9TyO4I9EpCC/UoPQZGUCoEJcD",
      "include_colab_link": true
    },
    "kernelspec": {
      "name": "python3",
      "display_name": "Python 3"
    },
    "language_info": {
      "name": "python"
    }
  },
  "cells": [
    {
      "cell_type": "markdown",
      "metadata": {
        "id": "view-in-github",
        "colab_type": "text"
      },
      "source": [
        "<a href=\"https://colab.research.google.com/github/NGONGOCHA/btvn/blob/main/l%E1%BA%ADp_tr%C3%ACnh_t%E1%BA%ADp_tin_n%C3%A2ng_cao.ipynb\" target=\"_parent\"><img src=\"https://colab.research.google.com/assets/colab-badge.svg\" alt=\"Open In Colab\"/></a>"
      ]
    },
    {
      "cell_type": "code",
      "metadata": {
        "id": "kIKvSelbPeEq"
      },
      "source": [
        "import pickle\n",
        "import random"
      ],
      "execution_count": 44,
      "outputs": []
    },
    {
      "cell_type": "code",
      "metadata": {
        "id": "H1-PYDtreo2Z"
      },
      "source": [
        "class Person:\n",
        "  def __init__(self, name, phoneNum, email):\n",
        "    self.name = name\n",
        "    self.phoneNum = phoneNum\n",
        "    self.email = email\n",
        "\n",
        "class Student(Person):\n",
        "  def stu(self, stuNumber, aveMark):\n",
        "    self.stuNumber = stuNumber\n",
        "    self.aveMark = aveMark\n",
        "\n",
        "class Professor(Person):\n",
        "  def pro(self, salary):\n",
        "    self.salary = salary"
      ],
      "execution_count": 41,
      "outputs": []
    },
    {
      "cell_type": "code",
      "metadata": {
        "colab": {
          "base_uri": "https://localhost:8080/"
        },
        "id": "db-QSJdzeuvx",
        "outputId": "6f48488b-539f-42e9-df57-9d7920ae6dd2"
      },
      "source": [
        "perSon = []\n",
        "for i in range(10):\n",
        "  name = input(\"Tên: \")\n",
        "  phone = random.randint(1000000, 100000000)\n",
        "  email = name + \"@gmail.com\"\n",
        "  perSon.append(vars(Person(name, phone, email))) #Person(name, phone, email).__dict__\n",
        "newper = sorted(perSon, key=lambda k:k['name'], reverse=True)\n",
        "print(newper)"
      ],
      "execution_count": 64,
      "outputs": [
        {
          "output_type": "stream",
          "name": "stdout",
          "text": [
            "Tên: dung\n",
            "Tên: mi\n",
            "Tên: ad\n",
            "Tên: uy\n",
            "Tên: le\n",
            "Tên: nguyn\n",
            "Tên: thai\n",
            "Tên: tao\n",
            "Tên: poi\n",
            "Tên: muy\n",
            "[{'name': 'uy', 'phoneNum': 40239006, 'email': 'uy@gmail.com'}, {'name': 'thai', 'phoneNum': 77703165, 'email': 'thai@gmail.com'}, {'name': 'tao', 'phoneNum': 70024746, 'email': 'tao@gmail.com'}, {'name': 'poi', 'phoneNum': 55421292, 'email': 'poi@gmail.com'}, {'name': 'nguyn', 'phoneNum': 48672006, 'email': 'nguyn@gmail.com'}, {'name': 'muy', 'phoneNum': 6583652, 'email': 'muy@gmail.com'}, {'name': 'mi', 'phoneNum': 63662476, 'email': 'mi@gmail.com'}, {'name': 'le', 'phoneNum': 34534620, 'email': 'le@gmail.com'}, {'name': 'dung', 'phoneNum': 27105660, 'email': 'dung@gmail.com'}, {'name': 'ad', 'phoneNum': 12259425, 'email': 'ad@gmail.com'}]\n"
          ]
        }
      ]
    },
    {
      "cell_type": "code",
      "metadata": {
        "colab": {
          "base_uri": "https://localhost:8080/"
        },
        "id": "NtmBWxRGih0D",
        "outputId": "40d49798-b2a1-425c-fce1-95e879b81ace"
      },
      "source": [
        "stuDent = []\n",
        "ten = [\"ha\", \"minh\", \"nam\", \"mi\", \"tao\", \"heo\", \"ca\", \"gy\"]\n",
        "for i in range(10):\n",
        "  name = random.choice(ten)\n",
        "  phone = random.randint(1000000000, 9999999999)\n",
        "  email = name + \"@gmail.com\"\n",
        "  studentnum = random.randint(1,100)\n",
        "  averMark = random.randint(1,10)\n",
        "  \n",
        "  hs = Student(name, phone, email)\n",
        "  hs.stu(studentnum, averMark)\n",
        "  stuDent.append(vars(hs))\n",
        "print(stuDent)\n",
        "newstu = sorted(stuDent, key=lambda k:k['aveMark'], reverse=True)\n",
        "newstu"
      ],
      "execution_count": 58,
      "outputs": [
        {
          "output_type": "stream",
          "name": "stdout",
          "text": [
            "[{'name': 'heo', 'phoneNum': 8288253394, 'email': 'heo@gmail.com', 'stuNumber': 90, 'aveMark': 9}, {'name': 'heo', 'phoneNum': 8358261220, 'email': 'heo@gmail.com', 'stuNumber': 49, 'aveMark': 5}, {'name': 'gy', 'phoneNum': 3773268423, 'email': 'gy@gmail.com', 'stuNumber': 5, 'aveMark': 8}, {'name': 'gy', 'phoneNum': 9204865224, 'email': 'gy@gmail.com', 'stuNumber': 91, 'aveMark': 9}, {'name': 'nam', 'phoneNum': 6859331983, 'email': 'nam@gmail.com', 'stuNumber': 68, 'aveMark': 8}, {'name': 'ha', 'phoneNum': 5237525688, 'email': 'ha@gmail.com', 'stuNumber': 27, 'aveMark': 9}, {'name': 'minh', 'phoneNum': 6624942057, 'email': 'minh@gmail.com', 'stuNumber': 90, 'aveMark': 6}, {'name': 'gy', 'phoneNum': 5876516194, 'email': 'gy@gmail.com', 'stuNumber': 76, 'aveMark': 1}, {'name': 'minh', 'phoneNum': 5032656878, 'email': 'minh@gmail.com', 'stuNumber': 52, 'aveMark': 10}, {'name': 'ca', 'phoneNum': 1989147391, 'email': 'ca@gmail.com', 'stuNumber': 82, 'aveMark': 6}]\n"
          ]
        },
        {
          "output_type": "execute_result",
          "data": {
            "text/plain": [
              "[{'aveMark': 10,\n",
              "  'email': 'minh@gmail.com',\n",
              "  'name': 'minh',\n",
              "  'phoneNum': 5032656878,\n",
              "  'stuNumber': 52},\n",
              " {'aveMark': 9,\n",
              "  'email': 'heo@gmail.com',\n",
              "  'name': 'heo',\n",
              "  'phoneNum': 8288253394,\n",
              "  'stuNumber': 90},\n",
              " {'aveMark': 9,\n",
              "  'email': 'gy@gmail.com',\n",
              "  'name': 'gy',\n",
              "  'phoneNum': 9204865224,\n",
              "  'stuNumber': 91},\n",
              " {'aveMark': 9,\n",
              "  'email': 'ha@gmail.com',\n",
              "  'name': 'ha',\n",
              "  'phoneNum': 5237525688,\n",
              "  'stuNumber': 27},\n",
              " {'aveMark': 8,\n",
              "  'email': 'gy@gmail.com',\n",
              "  'name': 'gy',\n",
              "  'phoneNum': 3773268423,\n",
              "  'stuNumber': 5},\n",
              " {'aveMark': 8,\n",
              "  'email': 'nam@gmail.com',\n",
              "  'name': 'nam',\n",
              "  'phoneNum': 6859331983,\n",
              "  'stuNumber': 68},\n",
              " {'aveMark': 6,\n",
              "  'email': 'minh@gmail.com',\n",
              "  'name': 'minh',\n",
              "  'phoneNum': 6624942057,\n",
              "  'stuNumber': 90},\n",
              " {'aveMark': 6,\n",
              "  'email': 'ca@gmail.com',\n",
              "  'name': 'ca',\n",
              "  'phoneNum': 1989147391,\n",
              "  'stuNumber': 82},\n",
              " {'aveMark': 5,\n",
              "  'email': 'heo@gmail.com',\n",
              "  'name': 'heo',\n",
              "  'phoneNum': 8358261220,\n",
              "  'stuNumber': 49},\n",
              " {'aveMark': 1,\n",
              "  'email': 'gy@gmail.com',\n",
              "  'name': 'gy',\n",
              "  'phoneNum': 5876516194,\n",
              "  'stuNumber': 76}]"
            ]
          },
          "metadata": {},
          "execution_count": 58
        }
      ]
    },
    {
      "cell_type": "code",
      "metadata": {
        "colab": {
          "base_uri": "https://localhost:8080/"
        },
        "id": "PFtaDviloIUn",
        "outputId": "9e192169-258f-41bb-8117-a92737e264bc"
      },
      "source": [
        "proF = []\n",
        "ten = (\"cuong\", \"dung\", \"mau\", \"lich\", \"thai\", \"viet\", \"xuan\")\n",
        "for i in range(10): \n",
        "  name = random.choice(ten)\n",
        "  phone = random.randint(1000000000, 9999999999)\n",
        "  email = name + \"@gmail.com\"\n",
        "  salary = random.randint(10000000, 99999999)\n",
        "\n",
        "  luong = Professor(name, phone, email)\n",
        "  luong.pro(salary)\n",
        "  proF.append(vars(luong))\n",
        "  newpro = sorted(proF, key=lambda k:k['salary'], reverse=False)\n",
        "print(proF)\n",
        "print(newpro)"
      ],
      "execution_count": 62,
      "outputs": [
        {
          "output_type": "stream",
          "name": "stdout",
          "text": [
            "[{'name': 'thai', 'phoneNum': 8333982236, 'email': 'thai@gmail.com', 'salary': 26061009}, {'name': 'lich', 'phoneNum': 5205068084, 'email': 'lich@gmail.com', 'salary': 19886260}, {'name': 'mau', 'phoneNum': 3378698917, 'email': 'mau@gmail.com', 'salary': 68532297}, {'name': 'cuong', 'phoneNum': 2269195417, 'email': 'cuong@gmail.com', 'salary': 89441431}, {'name': 'viet', 'phoneNum': 8374011414, 'email': 'viet@gmail.com', 'salary': 29482753}, {'name': 'lich', 'phoneNum': 5126583516, 'email': 'lich@gmail.com', 'salary': 74574053}, {'name': 'dung', 'phoneNum': 7425203673, 'email': 'dung@gmail.com', 'salary': 80138827}, {'name': 'xuan', 'phoneNum': 1645606881, 'email': 'xuan@gmail.com', 'salary': 94073671}, {'name': 'mau', 'phoneNum': 1967347393, 'email': 'mau@gmail.com', 'salary': 41925884}, {'name': 'viet', 'phoneNum': 6779980970, 'email': 'viet@gmail.com', 'salary': 62564290}]\n",
            "[{'name': 'lich', 'phoneNum': 5205068084, 'email': 'lich@gmail.com', 'salary': 19886260}, {'name': 'thai', 'phoneNum': 8333982236, 'email': 'thai@gmail.com', 'salary': 26061009}, {'name': 'viet', 'phoneNum': 8374011414, 'email': 'viet@gmail.com', 'salary': 29482753}, {'name': 'mau', 'phoneNum': 1967347393, 'email': 'mau@gmail.com', 'salary': 41925884}, {'name': 'viet', 'phoneNum': 6779980970, 'email': 'viet@gmail.com', 'salary': 62564290}, {'name': 'mau', 'phoneNum': 3378698917, 'email': 'mau@gmail.com', 'salary': 68532297}, {'name': 'lich', 'phoneNum': 5126583516, 'email': 'lich@gmail.com', 'salary': 74574053}, {'name': 'dung', 'phoneNum': 7425203673, 'email': 'dung@gmail.com', 'salary': 80138827}, {'name': 'cuong', 'phoneNum': 2269195417, 'email': 'cuong@gmail.com', 'salary': 89441431}, {'name': 'xuan', 'phoneNum': 1645606881, 'email': 'xuan@gmail.com', 'salary': 94073671}]\n"
          ]
        }
      ]
    },
    {
      "cell_type": "code",
      "metadata": {
        "colab": {
          "base_uri": "https://localhost:8080/"
        },
        "id": "_JrArOu8qkY-",
        "outputId": "5e2e311c-9dd0-4363-8c4b-bdb182552231"
      },
      "source": [
        "f = open('Person', 'wb')\n",
        "pickle.dump(newper, f)\n",
        "f.close()\n",
        "f = open(\"Person\", \"rb\")\n",
        "print(\"Person\\n\", pickle.load(f))\n",
        "f.close()"
      ],
      "execution_count": 71,
      "outputs": [
        {
          "output_type": "stream",
          "name": "stdout",
          "text": [
            "Person\n",
            " [{'name': 'uy', 'phoneNum': 40239006, 'email': 'uy@gmail.com'}, {'name': 'thai', 'phoneNum': 77703165, 'email': 'thai@gmail.com'}, {'name': 'tao', 'phoneNum': 70024746, 'email': 'tao@gmail.com'}, {'name': 'poi', 'phoneNum': 55421292, 'email': 'poi@gmail.com'}, {'name': 'nguyn', 'phoneNum': 48672006, 'email': 'nguyn@gmail.com'}, {'name': 'muy', 'phoneNum': 6583652, 'email': 'muy@gmail.com'}, {'name': 'mi', 'phoneNum': 63662476, 'email': 'mi@gmail.com'}, {'name': 'le', 'phoneNum': 34534620, 'email': 'le@gmail.com'}, {'name': 'dung', 'phoneNum': 27105660, 'email': 'dung@gmail.com'}, {'name': 'ad', 'phoneNum': 12259425, 'email': 'ad@gmail.com'}]\n"
          ]
        }
      ]
    },
    {
      "cell_type": "code",
      "metadata": {
        "colab": {
          "base_uri": "https://localhost:8080/"
        },
        "id": "oH2bqXTQsEt9",
        "outputId": "e7f28c67-a183-4fb6-cd11-b57ab1191605"
      },
      "source": [
        "s = open(\"Student\", \"wb\")\n",
        "pickle.dump(newstu, s)\n",
        "s.close()\n",
        "s = open(\"Student\", \"rb\")\n",
        "print(\"Student\\n\", pickle.load(s))\n",
        "s.close()"
      ],
      "execution_count": 73,
      "outputs": [
        {
          "output_type": "stream",
          "name": "stdout",
          "text": [
            "Student\n",
            " [{'name': 'minh', 'phoneNum': 5032656878, 'email': 'minh@gmail.com', 'stuNumber': 52, 'aveMark': 10}, {'name': 'heo', 'phoneNum': 8288253394, 'email': 'heo@gmail.com', 'stuNumber': 90, 'aveMark': 9}, {'name': 'gy', 'phoneNum': 9204865224, 'email': 'gy@gmail.com', 'stuNumber': 91, 'aveMark': 9}, {'name': 'ha', 'phoneNum': 5237525688, 'email': 'ha@gmail.com', 'stuNumber': 27, 'aveMark': 9}, {'name': 'gy', 'phoneNum': 3773268423, 'email': 'gy@gmail.com', 'stuNumber': 5, 'aveMark': 8}, {'name': 'nam', 'phoneNum': 6859331983, 'email': 'nam@gmail.com', 'stuNumber': 68, 'aveMark': 8}, {'name': 'minh', 'phoneNum': 6624942057, 'email': 'minh@gmail.com', 'stuNumber': 90, 'aveMark': 6}, {'name': 'ca', 'phoneNum': 1989147391, 'email': 'ca@gmail.com', 'stuNumber': 82, 'aveMark': 6}, {'name': 'heo', 'phoneNum': 8358261220, 'email': 'heo@gmail.com', 'stuNumber': 49, 'aveMark': 5}, {'name': 'gy', 'phoneNum': 5876516194, 'email': 'gy@gmail.com', 'stuNumber': 76, 'aveMark': 1}]\n"
          ]
        }
      ]
    },
    {
      "cell_type": "code",
      "metadata": {
        "colab": {
          "base_uri": "https://localhost:8080/"
        },
        "id": "PFFF9_sItRGO",
        "outputId": "952bf32d-e801-47a7-aa84-fab1ff2a4ed9"
      },
      "source": [
        "x = open(\"Professor\", \"wb\")\n",
        "pickle.dump(newpro, x)\n",
        "x.close()\n",
        "x = open(\"Professor\", \"rb\")\n",
        "print(\"Professor\\n\", pickle.load(x))\n",
        "x.close()"
      ],
      "execution_count": 74,
      "outputs": [
        {
          "output_type": "stream",
          "name": "stdout",
          "text": [
            "Professor\n",
            " [{'name': 'lich', 'phoneNum': 5205068084, 'email': 'lich@gmail.com', 'salary': 19886260}, {'name': 'thai', 'phoneNum': 8333982236, 'email': 'thai@gmail.com', 'salary': 26061009}, {'name': 'viet', 'phoneNum': 8374011414, 'email': 'viet@gmail.com', 'salary': 29482753}, {'name': 'mau', 'phoneNum': 1967347393, 'email': 'mau@gmail.com', 'salary': 41925884}, {'name': 'viet', 'phoneNum': 6779980970, 'email': 'viet@gmail.com', 'salary': 62564290}, {'name': 'mau', 'phoneNum': 3378698917, 'email': 'mau@gmail.com', 'salary': 68532297}, {'name': 'lich', 'phoneNum': 5126583516, 'email': 'lich@gmail.com', 'salary': 74574053}, {'name': 'dung', 'phoneNum': 7425203673, 'email': 'dung@gmail.com', 'salary': 80138827}, {'name': 'cuong', 'phoneNum': 2269195417, 'email': 'cuong@gmail.com', 'salary': 89441431}, {'name': 'xuan', 'phoneNum': 1645606881, 'email': 'xuan@gmail.com', 'salary': 94073671}]\n"
          ]
        }
      ]
    }
  ]
}