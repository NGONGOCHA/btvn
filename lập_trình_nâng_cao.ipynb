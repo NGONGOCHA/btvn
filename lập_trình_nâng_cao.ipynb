{
  "nbformat": 4,
  "nbformat_minor": 0,
  "metadata": {
    "colab": {
      "name": "lập trình nâng cao.ipynb",
      "provenance": [],
      "authorship_tag": "ABX9TyOFumpASLLWueZsPvlQ7rvz",
      "include_colab_link": true
    },
    "kernelspec": {
      "name": "python3",
      "display_name": "Python 3"
    },
    "language_info": {
      "name": "python"
    }
  },
  "cells": [
    {
      "cell_type": "markdown",
      "metadata": {
        "id": "view-in-github",
        "colab_type": "text"
      },
      "source": [
        "<a href=\"https://colab.research.google.com/github/NGONGOCHA/btvn/blob/main/l%E1%BA%ADp_tr%C3%ACnh_n%C3%A2ng_cao.ipynb\" target=\"_parent\"><img src=\"https://colab.research.google.com/assets/colab-badge.svg\" alt=\"Open In Colab\"/></a>"
      ]
    },
    {
      "cell_type": "markdown",
      "metadata": {
        "id": "pY49rbvOBM-M"
      },
      "source": [
        "Bài 1: Viết chương trình thực hiện các yêu cầu sau:\n",
        "- Nhập vào 1 số nguyên dương N từ bàn phím\n",
        "- Hãy xây dựng 1 dictionary với các phần tử chỉ mục và giá trị có dạng (i: log(i)) với I đi từ\n",
        "0 tới N\n",
        "- Hiển thị dictionary trên ra màn hình"
      ]
    },
    {
      "cell_type": "code",
      "metadata": {
        "colab": {
          "base_uri": "https://localhost:8080/"
        },
        "id": "7XMSBOMXBP8O",
        "outputId": "3e735e88-6386-4d61-90b3-2fadd7cac4e3"
      },
      "source": [
        "import math\n",
        "n = int(input(\"nhập n: \"))\n",
        "abc = {}\n",
        "for i in range(1, n+1):\n",
        "  abc[i] = math.log(i)\n",
        "print(abc)"
      ],
      "execution_count": 13,
      "outputs": [
        {
          "output_type": "stream",
          "name": "stdout",
          "text": [
            "nhập n: 5\n",
            "{1: 0.0, 2: 0.6931471805599453, 3: 1.0986122886681098, 4: 1.3862943611198906, 5: 1.6094379124341003}\n"
          ]
        }
      ]
    },
    {
      "cell_type": "markdown",
      "metadata": {
        "id": "_MLhR7M8CQDu"
      },
      "source": [
        "Bài 2: Viết chương trình thực hiện các yêu cầu sau:\n",
        "- Nhập vào từ bàn phím một chuỗi các giá trị (có thể là số nguyên, số thực hay các ký tự)\n",
        "cách nhau bởi dấu phẩy (“,”).\n",
        "- Chuyển chuỗi được nhập từ bàn phím thành một danh sách (list)\n",
        "- Hiển thị danh sách đó ra màn hình."
      ]
    },
    {
      "cell_type": "code",
      "metadata": {
        "colab": {
          "base_uri": "https://localhost:8080/"
        },
        "id": "Uy5Kxc6LP94t",
        "outputId": "0767f66f-3c9e-4393-ba5b-494b307f5969"
      },
      "source": [
        "ka = str(input(\"Nhập chuỗi: \"))\n",
        "list2 = []\n",
        "pi = \"\"\n",
        "for i in ka:\n",
        "  if i != \",\":\n",
        "    pi = pi + i\n",
        "  else: \n",
        "    list2.append(pi)\n",
        "    pi = \"\"\n",
        "else:\n",
        "  list2.append(pi)\n",
        "print(list2)"
      ],
      "execution_count": 18,
      "outputs": [
        {
          "output_type": "stream",
          "name": "stdout",
          "text": [
            "Nhập chuỗi: 12,du,si\n",
            "['12', 'du', 'si']\n"
          ]
        }
      ]
    },
    {
      "cell_type": "markdown",
      "metadata": {
        "id": "XDFR_71SQMgT"
      },
      "source": [
        "Bài 3: Viết chương trình thực hiện các yêu cầu sau:\n",
        "- Nhập vào từ bàn phím một chuỗi các giá trị (có thể là số nguyên, số thực hay các ký tự)\n",
        "cách nhau bởi dấu phẩy (“,”).\n",
        "- Chuyển chuỗi được nhập từ bàn phím thành một tuple\n",
        "- Hiển thị tuple đó ra màn hình."
      ]
    },
    {
      "cell_type": "code",
      "metadata": {
        "id": "9pDbHAuRQPf4",
        "colab": {
          "base_uri": "https://localhost:8080/"
        },
        "outputId": "6647d752-adc1-44fd-b1a9-92ea5ef8fae1"
      },
      "source": [
        "ka = str(input(\"Nhập chuỗi: \"))\n",
        "list2 = []\n",
        "tuple3 = ()\n",
        "pi = \"\"\n",
        "for i in ka:\n",
        "  if i != \",\":\n",
        "    pi = pi + i\n",
        "  else: \n",
        "    list2.append(pi)\n",
        "    pi = \"\"\n",
        "else:\n",
        "  list2.append(pi)\n",
        "tuple3 = tuple(list2)\n",
        "print(tuple3)"
      ],
      "execution_count": 21,
      "outputs": [
        {
          "output_type": "stream",
          "name": "stdout",
          "text": [
            "Nhập chuỗi: hdsj, 723, ưedu\n",
            "('hdsj', ' 723', ' ưedu')\n"
          ]
        }
      ]
    },
    {
      "cell_type": "markdown",
      "metadata": {
        "id": "UAILdV4vQSzE"
      },
      "source": [
        "Bài 4: Viết chương trình thực hiện các yêu cầu sau:\n",
        "- Nhập vào 1 chuỗi các kí tự từ bàn phím, các từ cách nhau bởi ít nhất một khoảng trắng\n",
        "- Chuyển chuỗi vừa nhập thành 1 danh sách với điều kiện phân tách là dấu khoảng trắng\n",
        "(space)\n",
        "- Hiển thị danh sách thu được ra màn hình"
      ]
    },
    {
      "cell_type": "code",
      "metadata": {
        "id": "VdWsyG1DQVed",
        "colab": {
          "base_uri": "https://localhost:8080/"
        },
        "outputId": "8d9dec56-247b-42ce-96c2-528ddfdac15d"
      },
      "source": [
        "ka = str(input(\"Nhập chuỗi: \"))\n",
        "list2 = []\n",
        "pi = \"\"\n",
        "for i in ka:\n",
        "  if i != \" \":\n",
        "    pi = pi + i\n",
        "  else: \n",
        "    list2.append(pi)\n",
        "    pi = \"\"\n",
        "else:\n",
        "  list2.append(pi)\n",
        "print(list2)"
      ],
      "execution_count": 20,
      "outputs": [
        {
          "output_type": "stream",
          "name": "stdout",
          "text": [
            "Nhập chuỗi: abc, aydt, jwdew\n",
            "['abc,', 'aydt,', 'jwdew']\n"
          ]
        }
      ]
    },
    {
      "cell_type": "markdown",
      "metadata": {
        "id": "FGuT6i3lQYub"
      },
      "source": [
        "Bài 5: Viết chương trình thực hiện các yêu cầu sau:\n",
        "- Nhập vào 1 danh sách các số nguyên từ bàn phím (Quá trình nhập dừng khi người dùng\n",
        "nhập vào 1 kí tự từ a đến z)\n",
        "- Hiển thị danh sách đó ra màn hình\n",
        "- Yêu cầu người dùng nhập vào một số nguyên N từ bàn phím\n",
        "- Tìm kiếm vị trí xuất hiện đầu tiên của N trong danh sách và hiển thị ra màn hình (nếu không\n",
        "có thì thông báo không tìm thấy ra màn hình).\n",
        "- Tìm kiếm tất cả các vị trí xuất hiện của N trong danh sách và hiển thị ra màn hình. (Nếu\n",
        "không tìm thấy thì thông báo không tìm được ra màn hình)"
      ]
    },
    {
      "cell_type": "code",
      "metadata": {
        "id": "lqMFVsjXQc_u",
        "colab": {
          "base_uri": "https://localhost:8080/"
        },
        "outputId": "1135c31a-93f9-4eec-e420-6de91caa8dd8"
      },
      "source": [
        "import string\n",
        "list5 = []\n",
        "vi_tri = 0\n",
        "tìm = 0\n",
        "while True:\n",
        "  n = str(input(\"Nhập số nguyên: \"))\n",
        "  if n in string.ascii_letters:\n",
        "    break\n",
        "  list5.append(int(n))\n",
        "print(list5)\n",
        "N = int(input(\"Nhập số nguyên N: \"))\n",
        "for i in list5:\n",
        "  vi_tri += 1\n",
        "  if N == i:\n",
        "    print(\"Số\", N, \"xuất hiện lần đầu tiên ở vị trí\", vi_tri)\n",
        "    vi_tri = 0\n",
        "    break\n",
        "else:\n",
        "  print(\"Không tìm thấy\")\n",
        "for i in list5:\n",
        "  vi_tri += 1\n",
        "  if N == i:\n",
        "    print(\"Số\", N, \"xuất hiện ở vị trí\", vi_tri)\n",
        "    tìm += 1\n",
        "if tìm == 0:\n",
        "  print(\"Không tìm thấy\")"
      ],
      "execution_count": 31,
      "outputs": [
        {
          "output_type": "stream",
          "name": "stdout",
          "text": [
            "Nhập số nguyên: 2\n",
            "Nhập số nguyên: 2\n",
            "Nhập số nguyên: 1\n",
            "Nhập số nguyên: 3\n",
            "Nhập số nguyên: 2\n",
            "Nhập số nguyên: \n",
            "[2, 2, 1, 3, 2]\n",
            "Nhập số nguyên N: 2\n",
            "Số 2 xuất hiện lần đầu tiên ở vị trí 1\n",
            "Số 2 xuất hiện ở vị trí 1\n",
            "Số 2 xuất hiện ở vị trí 2\n",
            "Số 2 xuất hiện ở vị trí 5\n"
          ]
        }
      ]
    }
  ]
}
